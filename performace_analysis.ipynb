{
 "cells": [
  {
   "cell_type": "markdown",
   "id": "c28906b4-f6bf-49f7-9318-245054bc14c5",
   "metadata": {},
   "source": [
    "# Módulo 2 Análisis y Reporte sobre el desempeño del modelo.\n",
    "### Cristian Aldo Sandoval Suarez A01751137\n",
    "---\n",
    "Para este analisis, tomare la solucion del portafolio de implementacion (KNN)."
   ]
  },
  {
   "cell_type": "code",
   "execution_count": 146,
   "id": "ff2f35b9-4069-4c21-a424-6027b4e82e92",
   "metadata": {},
   "outputs": [],
   "source": [
    "from sklearn.datasets import load_wine\n",
    "from sklearn.neighbors import KNeighborsClassifier\n",
    "from sklearn.preprocessing import StandardScaler\n",
    "from fast_ml.model_development import train_valid_test_split\n",
    "import matplotlib.pyplot as plt\n",
    "from sklearn.metrics import zero_one_loss\n",
    "from mlxtend.evaluate import bias_variance_decomp\n",
    "import pandas as pd"
   ]
  },
  {
   "cell_type": "markdown",
   "id": "c86f7cc5-c893-4671-902e-f97323b930e1",
   "metadata": {},
   "source": [
    "### Cargado de datos\n",
    "UCI ML Wine Data Set dataset"
   ]
  },
  {
   "cell_type": "code",
   "execution_count": 236,
   "id": "ed7511a2-9629-4960-9faf-1b7b7962cbd1",
   "metadata": {},
   "outputs": [],
   "source": [
    "data = load_wine()"
   ]
  },
  {
   "cell_type": "code",
   "execution_count": 237,
   "id": "7724e703-a432-4cd4-8ca1-7f08ac1c7824",
   "metadata": {},
   "outputs": [],
   "source": [
    "X = pd.DataFrame(data.data)\n",
    "y = pd.DataFrame(data.target, columns=[\"target\"])\n",
    "\n",
    "scaler = StandardScaler()\n",
    "X = scaler.fit_transform(X)\n",
    "\n",
    "df = pd.concat([pd.DataFrame(X), y], axis=1)"
   ]
  },
  {
   "cell_type": "markdown",
   "id": "b22dd8ce-f24e-4a02-ad77-b82ecf21255a",
   "metadata": {},
   "source": [
    "### 1. Separacion de datos para entrenamiento, pruebas y validacion."
   ]
  },
  {
   "cell_type": "code",
   "execution_count": 238,
   "id": "c294c5fe-d8d1-44ed-a91b-ec83a5f95688",
   "metadata": {},
   "outputs": [],
   "source": [
    "X_train, y_train, X_valid, y_valid, X_test, y_test = train_valid_test_split(\n",
    "                                                                df, \n",
    "                                                                target = 'target', \n",
    "                                                                train_size=0.6, \n",
    "                                                                valid_size=0.2, \n",
    "                                                                test_size=0.2,\n",
    "                                                                random_state=21\n",
    ")"
   ]
  },
  {
   "cell_type": "code",
   "execution_count": 239,
   "id": "cf32c8e9-a1b2-4f61-831d-1390c4973222",
   "metadata": {},
   "outputs": [
    {
     "name": "stdout",
     "output_type": "stream",
     "text": [
      "(106, 13)\n",
      "(106,)\n",
      "(36, 13)\n",
      "(36,)\n",
      "(36, 13)\n",
      "(36,)\n"
     ]
    },
    {
     "data": {
      "text/plain": [
       "(None, None)"
      ]
     },
     "execution_count": 239,
     "metadata": {},
     "output_type": "execute_result"
    }
   ],
   "source": [
    "print(X_train.shape), print(y_train.shape)\n",
    "print(X_valid.shape), print(y_valid.shape)\n",
    "print(X_test.shape), print(y_test.shape)"
   ]
  },
  {
   "cell_type": "markdown",
   "id": "6f5e4743-6467-41df-b95d-9edd0d001da1",
   "metadata": {},
   "source": [
    "Como se observa, tenemos listos nuestros 3 sets de datos:\n",
    "- Entrenamiento: 106 registros\n",
    "- Pruebas: 36 registros.\n",
    "- Validacion: 36 registros."
   ]
  },
  {
   "cell_type": "markdown",
   "id": "5dab56f6-3bcb-4fe0-b030-f80847660f04",
   "metadata": {},
   "source": [
    "#### Entranamiento del modelo"
   ]
  },
  {
   "cell_type": "code",
   "execution_count": 240,
   "id": "c412d8c3-cb05-4b0c-b6aa-ad6ab779d1b5",
   "metadata": {},
   "outputs": [],
   "source": [
    "knn = KNeighborsClassifier()"
   ]
  },
  {
   "cell_type": "code",
   "execution_count": 241,
   "id": "fc3ecda0-9e91-4213-a977-5c318886ebb3",
   "metadata": {},
   "outputs": [
    {
     "data": {
      "text/html": [
       "<style>#sk-container-id-11 {color: black;background-color: white;}#sk-container-id-11 pre{padding: 0;}#sk-container-id-11 div.sk-toggleable {background-color: white;}#sk-container-id-11 label.sk-toggleable__label {cursor: pointer;display: block;width: 100%;margin-bottom: 0;padding: 0.3em;box-sizing: border-box;text-align: center;}#sk-container-id-11 label.sk-toggleable__label-arrow:before {content: \"▸\";float: left;margin-right: 0.25em;color: #696969;}#sk-container-id-11 label.sk-toggleable__label-arrow:hover:before {color: black;}#sk-container-id-11 div.sk-estimator:hover label.sk-toggleable__label-arrow:before {color: black;}#sk-container-id-11 div.sk-toggleable__content {max-height: 0;max-width: 0;overflow: hidden;text-align: left;background-color: #f0f8ff;}#sk-container-id-11 div.sk-toggleable__content pre {margin: 0.2em;color: black;border-radius: 0.25em;background-color: #f0f8ff;}#sk-container-id-11 input.sk-toggleable__control:checked~div.sk-toggleable__content {max-height: 200px;max-width: 100%;overflow: auto;}#sk-container-id-11 input.sk-toggleable__control:checked~label.sk-toggleable__label-arrow:before {content: \"▾\";}#sk-container-id-11 div.sk-estimator input.sk-toggleable__control:checked~label.sk-toggleable__label {background-color: #d4ebff;}#sk-container-id-11 div.sk-label input.sk-toggleable__control:checked~label.sk-toggleable__label {background-color: #d4ebff;}#sk-container-id-11 input.sk-hidden--visually {border: 0;clip: rect(1px 1px 1px 1px);clip: rect(1px, 1px, 1px, 1px);height: 1px;margin: -1px;overflow: hidden;padding: 0;position: absolute;width: 1px;}#sk-container-id-11 div.sk-estimator {font-family: monospace;background-color: #f0f8ff;border: 1px dotted black;border-radius: 0.25em;box-sizing: border-box;margin-bottom: 0.5em;}#sk-container-id-11 div.sk-estimator:hover {background-color: #d4ebff;}#sk-container-id-11 div.sk-parallel-item::after {content: \"\";width: 100%;border-bottom: 1px solid gray;flex-grow: 1;}#sk-container-id-11 div.sk-label:hover label.sk-toggleable__label {background-color: #d4ebff;}#sk-container-id-11 div.sk-serial::before {content: \"\";position: absolute;border-left: 1px solid gray;box-sizing: border-box;top: 0;bottom: 0;left: 50%;z-index: 0;}#sk-container-id-11 div.sk-serial {display: flex;flex-direction: column;align-items: center;background-color: white;padding-right: 0.2em;padding-left: 0.2em;position: relative;}#sk-container-id-11 div.sk-item {position: relative;z-index: 1;}#sk-container-id-11 div.sk-parallel {display: flex;align-items: stretch;justify-content: center;background-color: white;position: relative;}#sk-container-id-11 div.sk-item::before, #sk-container-id-11 div.sk-parallel-item::before {content: \"\";position: absolute;border-left: 1px solid gray;box-sizing: border-box;top: 0;bottom: 0;left: 50%;z-index: -1;}#sk-container-id-11 div.sk-parallel-item {display: flex;flex-direction: column;z-index: 1;position: relative;background-color: white;}#sk-container-id-11 div.sk-parallel-item:first-child::after {align-self: flex-end;width: 50%;}#sk-container-id-11 div.sk-parallel-item:last-child::after {align-self: flex-start;width: 50%;}#sk-container-id-11 div.sk-parallel-item:only-child::after {width: 0;}#sk-container-id-11 div.sk-dashed-wrapped {border: 1px dashed gray;margin: 0 0.4em 0.5em 0.4em;box-sizing: border-box;padding-bottom: 0.4em;background-color: white;}#sk-container-id-11 div.sk-label label {font-family: monospace;font-weight: bold;display: inline-block;line-height: 1.2em;}#sk-container-id-11 div.sk-label-container {text-align: center;}#sk-container-id-11 div.sk-container {/* jupyter's `normalize.less` sets `[hidden] { display: none; }` but bootstrap.min.css set `[hidden] { display: none !important; }` so we also need the `!important` here to be able to override the default hidden behavior on the sphinx rendered scikit-learn.org. See: https://github.com/scikit-learn/scikit-learn/issues/21755 */display: inline-block !important;position: relative;}#sk-container-id-11 div.sk-text-repr-fallback {display: none;}</style><div id=\"sk-container-id-11\" class=\"sk-top-container\"><div class=\"sk-text-repr-fallback\"><pre>KNeighborsClassifier()</pre><b>In a Jupyter environment, please rerun this cell to show the HTML representation or trust the notebook. <br />On GitHub, the HTML representation is unable to render, please try loading this page with nbviewer.org.</b></div><div class=\"sk-container\" hidden><div class=\"sk-item\"><div class=\"sk-estimator sk-toggleable\"><input class=\"sk-toggleable__control sk-hidden--visually\" id=\"sk-estimator-id-11\" type=\"checkbox\" checked><label for=\"sk-estimator-id-11\" class=\"sk-toggleable__label sk-toggleable__label-arrow\">KNeighborsClassifier</label><div class=\"sk-toggleable__content\"><pre>KNeighborsClassifier()</pre></div></div></div></div></div>"
      ],
      "text/plain": [
       "KNeighborsClassifier()"
      ]
     },
     "execution_count": 241,
     "metadata": {},
     "output_type": "execute_result"
    }
   ],
   "source": [
    "knn.fit(X_train, y_train)"
   ]
  },
  {
   "cell_type": "markdown",
   "id": "e2fe1310-b976-46aa-9e3f-fdb90d668fd0",
   "metadata": {},
   "source": [
    "Parametros iniciales (deafult):"
   ]
  },
  {
   "cell_type": "code",
   "execution_count": 242,
   "id": "847bff34-7605-412e-b00a-70e871d91b0e",
   "metadata": {},
   "outputs": [
    {
     "data": {
      "text/plain": [
       "{'algorithm': 'auto',\n",
       " 'leaf_size': 30,\n",
       " 'metric': 'minkowski',\n",
       " 'metric_params': None,\n",
       " 'n_jobs': None,\n",
       " 'n_neighbors': 5,\n",
       " 'p': 2,\n",
       " 'weights': 'uniform'}"
      ]
     },
     "execution_count": 242,
     "metadata": {},
     "output_type": "execute_result"
    }
   ],
   "source": [
    "default_params = knn.get_params()\n",
    "default_params"
   ]
  },
  {
   "cell_type": "markdown",
   "id": "df128a17-5655-41d8-ad66-b36862e9b9c8",
   "metadata": {},
   "source": [
    "### 2. Diagnóstico del grado de bias y varianza "
   ]
  },
  {
   "cell_type": "code",
   "execution_count": 243,
   "id": "b2577bb3-536d-4f82-8d81-7265416925bc",
   "metadata": {},
   "outputs": [
    {
     "name": "stdout",
     "output_type": "stream",
     "text": [
      "Score: 1.0\n"
     ]
    }
   ],
   "source": [
    "print(f'Score: {knn.score(X_valid, y_valid)}')"
   ]
  },
  {
   "cell_type": "code",
   "execution_count": 244,
   "id": "755243e1-c0c2-4ba6-ac20-d963884d0d5b",
   "metadata": {},
   "outputs": [],
   "source": [
    "avg_expected_loss, avg_bias, avg_var = bias_variance_decomp(\n",
    "                                        knn, \n",
    "                                        X_train.to_numpy(), \n",
    "                                        y_train.to_numpy(), \n",
    "                                        X_valid.to_numpy(), \n",
    "                                        y_valid.to_numpy(), \n",
    "                                        loss='0-1_loss',\n",
    "                                        random_seed=42\n",
    ")"
   ]
  },
  {
   "cell_type": "code",
   "execution_count": 245,
   "id": "171cc601-a211-476f-9996-430c25f595ae",
   "metadata": {},
   "outputs": [
    {
     "name": "stdout",
     "output_type": "stream",
     "text": [
      "Average expected loss: 0.019\n",
      "Average bias: 0.000\n",
      "Average variance: 0.019\n",
      "Sklearn 0-1 loss: 0.639\n"
     ]
    }
   ],
   "source": [
    "print('Average expected loss: %.3f' % avg_expected_loss)\n",
    "print('Average bias: %.3f' % avg_bias)\n",
    "print('Average variance: %.3f' % avg_var)\n",
    "print('Sklearn 0-1 loss: %.3f' % zero_one_loss(y_test,y_pred))"
   ]
  },
  {
   "cell_type": "markdown",
   "id": "362cd0d7-b018-4c47-8022-0277b848d1c4",
   "metadata": {},
   "source": [
    "### 3. Diagnostico del grado de ajuste del modelo "
   ]
  },
  {
   "cell_type": "markdown",
   "id": "f43cbfb7-d4ca-4585-bdfc-0e6a302cbedf",
   "metadata": {},
   "source": [
    "Se tiene un bias y una varianza relativamente bajos, tambien se obtuvo un buen score, lo que nos indica que el modelo se encuentra casi perfectamente **balanceado**, sin embargo, podemos intenentar mejorarlo."
   ]
  },
  {
   "attachments": {
    "166654bd-d02f-42c1-8d1e-67333639bf33.png": {
     "image/png": "[encoded data removed]"
    }
   },
   "cell_type": "markdown",
   "id": "6c0a3ec3-5b92-4edb-aa37-21c843a63f5a",
   "metadata": {},
   "source": [
    "![image.png](attachment:166654bd-d02f-42c1-8d1e-67333639bf33.png)"
   ]
  },
  {
   "cell_type": "markdown",
   "id": "a9086a4e-ec6a-4504-9ac1-46731f638767",
   "metadata": {},
   "source": [
    "### 4. Ajuste de hiperparametros "
   ]
  },
  {
   "cell_type": "code",
   "execution_count": 248,
   "id": "5e5cfad4-7fb1-4857-a24d-f8dad49272a1",
   "metadata": {},
   "outputs": [],
   "source": [
    "bias_KnnClass, var_KnnClass, error_KnnClass, = [], [], []\n",
    "\n",
    "top = 21\n",
    "\n",
    "for k in range(1,top):\n",
    "    clf_knn = KNeighborsClassifier(n_neighbors=k)\n",
    "    avg_expected_loss, avg_bias, avg_var = bias_variance_decomp(\n",
    "                                        clf_knn, \n",
    "                                        X_train.to_numpy(), \n",
    "                                        y_train.to_numpy(), \n",
    "                                        X_valid.to_numpy(), \n",
    "                                        y_valid.to_numpy(), \n",
    "                                        loss='0-1_loss',\n",
    "                                        random_seed=42\n",
    "    )\n",
    "    \n",
    "    \n",
    "    bias_KnnClass.append(avg_bias)\n",
    "    var_KnnClass.append(avg_var)\n",
    "    error_KnnClass.append(avg_expected_loss)"
   ]
  },
  {
   "cell_type": "code",
   "execution_count": 249,
   "id": "b9603aa3-f323-4d40-8102-f933feaabf76",
   "metadata": {},
   "outputs": [
    {
     "data": {
      "text/plain": [
       "<matplotlib.legend.Legend at 0x7f370d200a60>"
      ]
     },
     "execution_count": 249,
     "metadata": {},
     "output_type": "execute_result"
    },
    {
     "data": {
      "image/png": "[encoded data removed]",
      "text/plain": [
       "<Figure size 432x288 with 1 Axes>"
      ]
     },
     "metadata": {
      "needs_background": "light"
     },
     "output_type": "display_data"
    }
   ],
   "source": [
    "plt.plot(range(1,top), error_KnnClass, 'red', label = 'total_error',linestyle='dashed')\n",
    "plt.plot(range(1,top), bias_KnnClass, 'brown', label = 'bias^2')\n",
    "plt.plot(range(1,top), var_KnnClass, 'yellow', label = 'variance')\n",
    "plt.xlabel('Algorithm Complexity(K)')\n",
    "plt.xticks(range(0, top, 1))\n",
    "plt.ylabel('Error')\n",
    "plt.legend()"
   ]
  },
  {
   "cell_type": "markdown",
   "id": "9b3cf33c-0a91-415e-93d8-8b2f9a9dcbf0",
   "metadata": {},
   "source": [
    "En la grafica se observa que con n_neighbors = 1 se tiene el mejor balance entre bias y varianza (niveles mas bajos posibles) por lo que ajustaremos nuestro modelo con ese parametro."
   ]
  },
  {
   "cell_type": "code",
   "execution_count": 250,
   "id": "63e0f010-8830-4ba2-a70e-b92408c144a4",
   "metadata": {},
   "outputs": [],
   "source": [
    "knn = KNeighborsClassifier(n_neighbors=1)"
   ]
  },
  {
   "cell_type": "code",
   "execution_count": 251,
   "id": "efa2d359-93b5-4f94-9204-5bff60b946c1",
   "metadata": {},
   "outputs": [],
   "source": [
    "avg_expected_loss, avg_bias, avg_var = bias_variance_decomp(\n",
    "                                        knn, \n",
    "                                        X_train.to_numpy(), \n",
    "                                        y_train.to_numpy(), \n",
    "                                        X_valid.to_numpy(), \n",
    "                                        y_valid.to_numpy(), \n",
    "                                        loss='0-1_loss',\n",
    "                                        random_seed=42\n",
    "    )"
   ]
  },
  {
   "cell_type": "code",
   "execution_count": 252,
   "id": "f5bf7266-1025-4e11-8e36-a69784a60c4e",
   "metadata": {},
   "outputs": [
    {
     "name": "stdout",
     "output_type": "stream",
     "text": [
      "Score: 0.9722222222222222\n"
     ]
    }
   ],
   "source": [
    "print(f'Score: {knn.score(X_valid, y_valid)}')"
   ]
  },
  {
   "cell_type": "code",
   "execution_count": 253,
   "id": "7135135c-c7a6-4bf2-91ca-ecd051dc457b",
   "metadata": {},
   "outputs": [
    {
     "name": "stdout",
     "output_type": "stream",
     "text": [
      "Average expected loss: 0.007\n",
      "Average bias: 0.000\n",
      "Average variance: 0.007\n",
      "Sklearn 0-1 loss: 0.639\n"
     ]
    }
   ],
   "source": [
    "print('Average expected loss: %.3f' % avg_expected_loss)\n",
    "print('Average bias: %.3f' % avg_bias)\n",
    "print('Average variance: %.3f' % avg_var)\n",
    "print('Sklearn 0-1 loss: %.3f' % zero_one_loss(y_test,y_pred))"
   ]
  },
  {
   "cell_type": "markdown",
   "id": "032aa23b-817e-4f9c-af81-94e86a66a919",
   "metadata": {},
   "source": [
    "Como era previsto, mejoro el score, el bias bajo y la varianza mantuvo un nivel bajo. Por lo que podemos decir que nuestro modelo se encuentra perfectamente balanceado."
   ]
  },
  {
   "cell_type": "markdown",
   "id": "a496757a-417c-4122-94f9-82a2cc0713e8",
   "metadata": {},
   "source": [
    "### 4. Predicciones con set de prueba. "
   ]
  },
  {
   "cell_type": "code",
   "execution_count": 255,
   "id": "27c0298e-5f56-46bb-9bc4-a9640e375390",
   "metadata": {},
   "outputs": [
    {
     "data": {
      "text/plain": [
       "1.0"
      ]
     },
     "execution_count": 255,
     "metadata": {},
     "output_type": "execute_result"
    }
   ],
   "source": [
    "knn.score(X_test, y_test)"
   ]
  }
 ],
 "metadata": {
  "kernelspec": {
   "display_name": "Python 3 (ipykernel)",
   "language": "python",
   "name": "python3"
  },
  "language_info": {
   "codemirror_mode": {
    "name": "ipython",
    "version": 3
   },
   "file_extension": ".py",
   "mimetype": "text/x-python",
   "name": "python",
   "nbconvert_exporter": "python",
   "pygments_lexer": "ipython3",
   "version": "3.9.7"
  }
 },
 "nbformat": 4,
 "nbformat_minor": 5
}
